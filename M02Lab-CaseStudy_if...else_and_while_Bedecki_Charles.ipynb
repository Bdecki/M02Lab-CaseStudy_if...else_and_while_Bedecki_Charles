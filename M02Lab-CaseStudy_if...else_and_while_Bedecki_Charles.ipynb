{
 "cells": [
  {
   "cell_type": "code",
   "execution_count": null,
   "id": "1ca25b57",
   "metadata": {},
   "outputs": [
    {
     "name": "stdout",
     "output_type": "stream",
     "text": [
      "Please enter student's last name (enter ZZZ to quit):\n",
      "Bedecki\n",
      "Please enter student's first name:\n",
      "Charles\n",
      "Please enter student's GPA:\n",
      "3.5\n",
      "This student has made the Dean's List\n",
      "Enter Student Last Name:\n",
      "Doe\n",
      "Please enter student's first name:\n",
      "John\n",
      "Please enter student's GPA:\n",
      "3.25\n",
      "This student has made the Honor Roll\n",
      "Enter Student Last Name:\n",
      "Phillip\n",
      "Please enter student's first name:\n",
      "King\n",
      "Please enter student's GPA:\n",
      "1.2\n",
      "Enter Student Last Name:\n",
      "Alex\n",
      "Please enter student's first name:\n",
      "Bedecki\n",
      "Please enter student's GPA:\n",
      "3.9\n",
      "This student has made the Dean's List\n",
      "Enter Student Last Name:\n",
      "Engles\n",
      "Please enter student's first name:\n",
      "Max\n",
      "Please enter student's GPA:\n",
      "3.36\n",
      "This student has made the Honor Roll\n"
     ]
    }
   ],
   "source": [
    "# Charles Bedecki\n",
    "# M02 Lab Case Study\n",
    "# A Python app that will accept student names and GPAs and test if the student qualifies for either the Dean's List or the Honor Roll.\n",
    "# 9/13/2022\n",
    "\n",
    "lastname = input(\"Please enter student's last name (enter ZZZ to quit):\\n\") # prompt user to enter student's first name\n",
    "\n",
    "while lastname != \"ZZZ\": # check if user has inputed ZZZ as the student's last name (if condition is met, program ends)\n",
    "\n",
    "    firstname = input(\"Please enter student's first name:\\n\") # prompt user to enter student's first name\n",
    "\n",
    "    gpa = float(input(\"Please enter student's GPA:\\n\")) # prompt user to enter student's GPA\n",
    "\n",
    "    if gpa >= 3.5: # check if GPA is greater than or equal to 3.5 for Dean's List\n",
    "        print(\"This student has made the Dean's List\") # output if condition is met||format output as first name/last name\n",
    "\n",
    "    else:\n",
    "        if gpa >= 3.25: # check if GPA is greater than or equal to 3.25 for Honor Roll\n",
    "            print(\"This student has made the Honor Roll\") # output if condition is met||format output as first name/last name\n",
    "\n",
    "    lastname = input(\"Enter Student Last Name:\\n\") # repeat until user has entered ZZZ"
   ]
  },
  {
   "cell_type": "code",
   "execution_count": null,
   "id": "88d1e997",
   "metadata": {},
   "outputs": [],
   "source": []
  }
 ],
 "metadata": {
  "kernelspec": {
   "display_name": "Python 3 (ipykernel)",
   "language": "python",
   "name": "python3"
  },
  "language_info": {
   "codemirror_mode": {
    "name": "ipython",
    "version": 3
   },
   "file_extension": ".py",
   "mimetype": "text/x-python",
   "name": "python",
   "nbconvert_exporter": "python",
   "pygments_lexer": "ipython3",
   "version": "3.9.12"
  }
 },
 "nbformat": 4,
 "nbformat_minor": 5
}
